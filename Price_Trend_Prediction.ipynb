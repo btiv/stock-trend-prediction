{
  "nbformat": 4,
  "nbformat_minor": 0,
  "metadata": {
    "colab": {
      "name": "Price Trend Prediction.ipynb",
      "provenance": [],
      "collapsed_sections": [],
      "authorship_tag": "ABX9TyMNoZ2gX5z+TEMClNJriw5J",
      "include_colab_link": true
    },
    "kernelspec": {
      "name": "python3",
      "display_name": "Python 3"
    }
  },
  "cells": [
    {
      "cell_type": "markdown",
      "metadata": {
        "id": "view-in-github",
        "colab_type": "text"
      },
      "source": [
        "<a href=\"https://colab.research.google.com/github/btiv/stock-trend-prediction/blob/master/Price_Trend_Prediction.ipynb\" target=\"_parent\"><img src=\"https://colab.research.google.com/assets/colab-badge.svg\" alt=\"Open In Colab\"/></a>"
      ]
    },
    {
      "cell_type": "code",
      "metadata": {
        "id": "Pp_TUsGCfcGX",
        "colab_type": "code",
        "colab": {}
      },
      "source": [
        "# Copyright 2020 Brendan Tivnan\n",
        "#\n",
        "# Copyright 2020 Google LLC\n",
        "#\n",
        "# Licensed under the Apache License, Version 2.0 (the \"License\");\n",
        "# you may not use this file except in compliance with the License.\n",
        "# You may obtain a copy of the License at\n",
        "#\n",
        "#   http://www.apache.org/licenses/LICENSE-2.0\n",
        "#\n",
        "# Unless required by applicable law or agreed to in writing, software\n",
        "# distributed under the License is distributed on an \"AS IS\" BASIS,\n",
        "# WITHOUT WARRANTIES OR CONDITIONS OF ANY KIND, either express or implied.\n",
        "# See the License for the specific language governing permissions and\n",
        "# limitations under the License."
      ],
      "execution_count": null,
      "outputs": []
    },
    {
      "cell_type": "code",
      "metadata": {
        "id": "HPGwHfmsjbpa",
        "colab_type": "code",
        "colab": {}
      },
      "source": [
        "# NOTICE: THIS FILE HAS BEEN MODIFIED BY Brendan Tivnan UNDER COMPLIANCE \n",
        "# WITH THE APACHE 2.0 LICENCE FROM THE ORIGINAL WORK OF THE COMPANY \n",
        "# Google LLC."
      ],
      "execution_count": null,
      "outputs": []
    },
    {
      "cell_type": "code",
      "metadata": {
        "id": "s_8g2RRUk5tx",
        "colab_type": "code",
        "colab": {}
      },
      "source": [
        "#@title Run on TensorFlow 2.x\n",
        "%tensorflow_version 2.x\n",
        "from __future__ import absolute_import, division, print_function, unicode_literals"
      ],
      "execution_count": 1,
      "outputs": []
    },
    {
      "cell_type": "code",
      "metadata": {
        "id": "5s4CR-XpfJUQ",
        "colab_type": "code",
        "colab": {
          "base_uri": "https://localhost:8080/",
          "height": 70
        },
        "outputId": "f0d8678c-8623-4c83-921d-1a59c30c83d4"
      },
      "source": [
        "#@title Import relevant modules\n",
        "import numpy as np\n",
        "import pandas as pd\n",
        "import tensorflow as tf\n",
        "from tensorflow.keras import layers\n",
        "from matplotlib import pyplot as plt\n",
        "import seaborn as sns\n"
      ],
      "execution_count": 2,
      "outputs": [
        {
          "output_type": "stream",
          "text": [
            "/usr/local/lib/python3.6/dist-packages/statsmodels/tools/_testing.py:19: FutureWarning: pandas.util.testing is deprecated. Use the functions in the public API at pandas.testing instead.\n",
            "  import pandas.util.testing as tm\n"
          ],
          "name": "stderr"
        }
      ]
    },
    {
      "cell_type": "markdown",
      "metadata": {
        "id": "nrN6pr1KBZMB",
        "colab_type": "text"
      },
      "source": [
        "the label will be the delta between the close and open price, a positive delta indicates an increase of price, a negative indicates a decrease. The features\n",
        "will be volume, stochastic oscillator, relative strength index, the \n",
        "aroon indicator and the previous days delta"
      ]
    },
    {
      "cell_type": "code",
      "metadata": {
        "id": "qGtJvjlZgoAC",
        "colab_type": "code",
        "colab": {}
      },
      "source": [
        "# data collection\n",
        "\n",
        "\n",
        "# get the price data for a given stock, IBM default\n",
        "\n",
        "price_data = pd.read_csv(\"https://www.alphavantage.co/query?function=TIME_SERIES_DAILY&symbol=IBM&outputsize=full&apikey=ZRNIEDRNCDG5D4TZ&datatype=csv\")\n",
        "\n",
        "# compute the delta\n",
        "\n",
        "price_data[\"delta\"] = price_data[\"close\"] - price_data[\"open\"]\n",
        "\n",
        "# scale volume\n",
        "\n",
        "price_data[\"volume\"] = price_data[\"volume\"] / 100000\n",
        "\n",
        "# collect other feature data\n",
        "\n",
        "stoch_data = pd.read_csv(\"https://www.alphavantage.co/query?function=STOCH&symbol=IBM&interval=daily&apikey=ZRNIEDRNCDG5D4TZ&datatype=csv\")\n",
        "rsi_data = pd.read_csv(\"https://www.alphavantage.co/query?function=RSI&symbol=IBM&interval=daily&time_period=10&series_type=open&apikey=ZRNIEDRNCDG5D4TZ&datatype=csv\")\n",
        "aroon_data = pd.read_csv(\"https://www.alphavantage.co/query?function=AROON&symbol=IBM&interval=daily&time_period=14&apikey=ZRNIEDRNCDG5D4TZ&datatype=csv\")"
      ],
      "execution_count": 13,
      "outputs": []
    },
    {
      "cell_type": "code",
      "metadata": {
        "id": "tMSCgrEGNDAG",
        "colab_type": "code",
        "colab": {}
      },
      "source": [
        "# drop the first value to offset label and features\n",
        "stoch_data = stoch_data.iloc[1:]\n",
        "rsi_data = rsi_data.iloc[1:]\n",
        "aroon_data = aroon_data.iloc[1:]\n",
        "\n",
        "# add feature data to price data frame\n",
        "\n",
        "price_data[\"SlowD\"] = stoch_data[\"SlowD\"]\n",
        "price_data[\"SlowK\"] = stoch_data[\"SlowK\"]\n",
        "price_data[\"RSI\"] = rsi_data[\"RSI\"]\n",
        "price_data[\"AroonDown\"] = aroon_data[\"Aroon Down\"]\n",
        "price_data[\"AroonUp\"] = aroon_data[\"Aroon Up\"]\n",
        "price_data[\"PreviousDelta\"] = price_data[\"delta\"]\n",
        "\n",
        "# shift data up\n",
        "\n",
        "price_data[\"SlowD\"] = price_data[\"SlowD\"].shift(-1)\n",
        "price_data[\"SlowK\"] = price_data[\"SlowK\"].shift(-1)\n",
        "price_data[\"RSI\"] = price_data[\"RSI\"].shift(-1)\n",
        "price_data[\"AroonDown\"] = price_data[\"AroonDown\"].shift(-1)\n",
        "price_data[\"AroonUp\"] = price_data[\"AroonUp\"].shift(-1)\n",
        "price_data[\"PreviousDelta\"] = price_data[\"PreviousDelta\"].shift(-1)\n",
        "\n",
        "print(price_data)\n",
        "\n",
        "# delete rows with empty cells\n",
        "\n",
        "price_data.dropna(subset=[\"SlowD\", \"SlowK\", \"RSI\", \"AroonDown\", \"AroonUp\", \"PreviousDelta\"], inplace=True)\n",
        "\n",
        "#shuffle the examples and then split into training and test sets\n",
        "\n",
        "price_data = price_data.reindex(np.random.permutation(price_data.index))\n",
        "\n",
        "train_df = price_data.iloc[:5000, :]\n",
        "test_df = price_data.iloc[5000:5200, :]\n",
        "validation_df = price_data.iloc[5200:, :]\n",
        "\n",
        "print(train_df)"
      ],
      "execution_count": null,
      "outputs": []
    },
    {
      "cell_type": "code",
      "metadata": {
        "id": "ya1OXpCgFyPg",
        "colab_type": "code",
        "colab": {}
      },
      "source": [
        "# Create an empty list that will eventually hold all feature columns.\n",
        "feature_columns = []\n",
        "\n",
        "# Create a numerical feature column to represent volume.\n",
        "volume = tf.feature_column.numeric_column(\"volume\")\n",
        "feature_columns.append(volume)\n",
        "\n",
        "# Create a numerical feature column to represent SlowD.\n",
        "slowd = tf.feature_column.numeric_column(\"SlowD\")\n",
        "feature_columns.append(slowd)\n",
        "\n",
        "# Create a numerical feature column to represent SlowK.\n",
        "slowk = tf.feature_column.numeric_column(\"SlowK\")\n",
        "feature_columns.append(slowk)\n",
        "\n",
        "# Create a numerical feature column to represent RSI.\n",
        "rsi = tf.feature_column.numeric_column(\"RSI\")\n",
        "feature_columns.append(rsi)\n",
        "\n",
        "# Create a numerical feature column to represent Aroon Down.\n",
        "aroon_down = tf.feature_column.numeric_column(\"AroonDown\")\n",
        "feature_columns.append(aroon_down)\n",
        "\n",
        "# Create a numerical feature column to represent Aroon Up.\n",
        "aroon_up = tf.feature_column.numeric_column(\"AroonUp\")\n",
        "feature_columns.append(aroon_up)\n",
        "\n",
        "# Create a numerical feature column to represent the previous days delta.\n",
        "previous_delta = tf.feature_column.numeric_column(\"PreviousDelta\")\n",
        "feature_columns.append(previous_delta)\n",
        "\n",
        "# Convert the list of feature columns into a layer that will ultimately become\n",
        "# part of the model. Understanding layers is not important right now.\n",
        "my_feature_layer = layers.DenseFeatures(feature_columns)"
      ],
      "execution_count": 63,
      "outputs": []
    },
    {
      "cell_type": "code",
      "metadata": {
        "id": "F61fo7SkH6JW",
        "colab_type": "code",
        "colab": {}
      },
      "source": [
        "#@title Define the plotting function.\n",
        "\n",
        "def plot_the_loss_curve(epochs, rmse):\n",
        "  \"\"\"Plot a curve of loss vs. epoch.\"\"\"\n",
        "\n",
        "  plt.figure()\n",
        "  plt.xlabel(\"Epoch\")\n",
        "  plt.ylabel(\"Root Mean Squared Error\")\n",
        "\n",
        "  plt.plot(epochs, rmse, label=\"Loss\")\n",
        "  plt.legend()\n",
        "  plt.ylim([rmse.min()*0.95, rmse.max() * 1.03])\n",
        "  plt.show()  \n",
        "\n",
        "print(\"Defined the plot_the_loss_curve function.\")"
      ],
      "execution_count": null,
      "outputs": []
    },
    {
      "cell_type": "code",
      "metadata": {
        "id": "DLJU9Wb1H7AU",
        "colab_type": "code",
        "colab": {}
      },
      "source": [
        "def create_model(my_learning_rate, my_feature_layer):\n",
        "  \"\"\"Create and compile a simple linear regression model.\"\"\"\n",
        "  # Most simple tf.keras models are sequential.\n",
        "  model = tf.keras.models.Sequential()\n",
        "\n",
        "  # Add the layer containing the feature columns to the model.\n",
        "  model.add(my_feature_layer)\n",
        "\n",
        "  # Describe the topography of the model by calling the tf.keras.layers.Dense\n",
        "  # method once for each layer. We've specified the following arguments:\n",
        "  #   * units specifies the number of nodes in this layer.\n",
        "  #   * activation specifies the activation function (Rectified Linear Unit).\n",
        "  #   * name is just a string that can be useful when debugging.\n",
        "\n",
        "  # Define the first hidden layer with 256 nodes.   \n",
        "  model.add(tf.keras.layers.Dense(units=256, \n",
        "                                  activation='relu', \n",
        "                                  name='Hidden1'))\n",
        "  \n",
        "  # Define the second hidden layer with 256 nodes.   \n",
        "  model.add(tf.keras.layers.Dense(units=256, \n",
        "                                  activation='relu',\n",
        "                                  name='Hidden2'))\n",
        "\n",
        "  # Define the output layer.\n",
        "  model.add(tf.keras.layers.Dense(units=1,  \n",
        "                                  name='Output'))                              \n",
        "  \n",
        "  model.compile(optimizer=tf.keras.optimizers.Adam(lr=my_learning_rate),\n",
        "                loss=\"mean_squared_error\",\n",
        "                metrics=[tf.keras.metrics.RootMeanSquaredError()])\n",
        "\n",
        "  return model"
      ],
      "execution_count": 76,
      "outputs": []
    },
    {
      "cell_type": "code",
      "metadata": {
        "id": "JGowuMCxxWgb",
        "colab_type": "code",
        "colab": {}
      },
      "source": [
        "def train_model(model, dataset, epochs, label_name,\n",
        "                batch_size=None):\n",
        "  \"\"\"Train the model by feeding it data.\"\"\"\n",
        "\n",
        "  # Split the dataset into features and label.\n",
        "  features = {name:np.array(value) for name, value in dataset.items()}\n",
        "  label = np.array(features.pop(label_name))\n",
        "  history = model.fit(x=features, y=label, batch_size=batch_size,\n",
        "                      epochs=epochs, shuffle=True) \n",
        "\n",
        "  # The list of epochs is stored separately from the rest of history.\n",
        "  epochs = history.epoch\n",
        "  \n",
        "  # To track the progression of training, gather a snapshot\n",
        "  # of the model's mean squared error at each epoch. \n",
        "  hist = pd.DataFrame(history.history)\n",
        "  rmse = hist[\"root_mean_squared_error\"]\n",
        "\n",
        "  return epochs, rmse"
      ],
      "execution_count": 77,
      "outputs": []
    },
    {
      "cell_type": "code",
      "metadata": {
        "id": "88mee_h-IK0Z",
        "colab_type": "code",
        "colab": {}
      },
      "source": [
        "# The following variables are the hyperparameters.\n",
        "learning_rate = 0.001\n",
        "epochs = 1000\n",
        "batch_size = 100\n",
        "label_name = \"delta\"\n",
        "\n",
        "# Establish the model's topography.\n",
        "my_model = create_model(learning_rate, my_feature_layer)\n",
        "\n",
        "# Train the model on the normalized training set.\n",
        "epochs, rmse = train_model(my_model, train_df, epochs, label_name, batch_size)\n",
        "plot_the_loss_curve(epochs, rmse)\n",
        "\n",
        "test_features = {name:np.array(value) for name, value in test_df.items()}\n",
        "test_label = np.array(test_features.pop(label_name)) # isolate the label\n",
        "print(\"\\n Evaluate the linear regression model against the test set:\")\n",
        "my_model.evaluate(x = test_features, y = test_label, batch_size=batch_size)"
      ],
      "execution_count": null,
      "outputs": []
    },
    {
      "cell_type": "code",
      "metadata": {
        "id": "2KK0WMf9xPDW",
        "colab_type": "code",
        "colab": {}
      },
      "source": [
        "# make a prediction and compare to true value\n",
        "\n",
        "validation_features = {name:np.array(value) for name, value in validation_df.items()}\n",
        "\n",
        "print(validation_features)\n",
        "\n",
        "predictions = my_model.predict(validation_features)\n",
        "\n",
        "print(predictions)\n",
        "\n",
        "# model only doing all positive or all negative for all predictions"
      ],
      "execution_count": null,
      "outputs": []
    }
  ]
}